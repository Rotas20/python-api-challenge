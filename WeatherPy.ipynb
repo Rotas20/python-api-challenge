{
 "cells": [
  {
   "cell_type": "markdown",
   "metadata": {},
   "source": [
    "# WeatherPy\n",
    "----\n",
    "\n",
    "#### Observations\n",
    "1)Weather becomes warmer as you approach the equator\n",
    "2) There isn't a strong correlation between humidity and latitude for either hemisphere\n",
    "3)Latitude and wind speed aren't correlated \n",
    "\n"
   ]
  },
  {
   "cell_type": "code",
   "execution_count": 1,
   "metadata": {
    "scrolled": false
   },
   "outputs": [],
   "source": [
    "# Dependencies and Setup\n",
    "import matplotlib.pyplot as plt\n",
    "import pandas as pd\n",
    "import numpy as np\n",
    "import requests\n",
    "import time\n",
    "from scipy.stats import linregress\n",
    "from pprint import pprint\n",
    "\n",
    "# Import API key\n",
    "from api_keys import weather_api_key\n",
    "\n",
    "# Incorporated citipy to determine city based on latitude and longitude\n",
    "from citipy import citipy\n",
    "\n",
    "#Output File (CSV)\n",
    "output_data_file = \"output_data/cities.csv\"\n",
    "\n",
    "# Range of latitudes and longitudes\n",
    "lat_range = (-90, 90)\n",
    "lng_range = (-180, 180)"
   ]
  },
  {
   "cell_type": "markdown",
   "metadata": {},
   "source": [
    "## Generate Cities List"
   ]
  },
  {
   "cell_type": "code",
   "execution_count": 2,
   "metadata": {},
   "outputs": [
    {
     "data": {
      "text/plain": [
       "631"
      ]
     },
     "execution_count": 2,
     "metadata": {},
     "output_type": "execute_result"
    }
   ],
   "source": [
    "# List for holding lat_lngs and cities\n",
    "lat_lngs = []\n",
    "cities = []\n",
    "\n",
    "# Create a set of random lat and lng combinations\n",
    "lats = np.random.uniform(low=-90.000, high=90.000, size=1500)\n",
    "lngs = np.random.uniform(low=-180.000, high=180.000, size=1500)\n",
    "lat_lngs = zip(lats, lngs)\n",
    "\n",
    "# Identify nearest city for each lat, lng combination\n",
    "for lat_lng in lat_lngs:\n",
    "    city = citipy.nearest_city(lat_lng[0], lat_lng[1]).city_name\n",
    "    \n",
    "    # If the city is unique, then add it to  our cities list\n",
    "    if city not in cities:\n",
    "        cities.append(city)\n",
    "\n",
    "# Print the city count to confirm sufficient count (must be over 500 UNIQUE cities)\n",
    "len(cities)\n"
   ]
  },
  {
   "cell_type": "markdown",
   "metadata": {},
   "source": [
    "### Perform API Calls\n",
    "* Perform a weather check on each city using a series of successive API calls.\n",
    "* Include a print log of each city as it'sbeing processed (with the city number and city name).\n"
   ]
  },
  {
   "cell_type": "code",
   "execution_count": 3,
   "metadata": {
    "scrolled": true
   },
   "outputs": [
    {
     "name": "stdout",
     "output_type": "stream",
     "text": [
      "api.openweathermap.org/data/2.5/weather?q=?appid=ceba7512950f5995f8972a84d840c215&units=imperial&q=\n"
     ]
    }
   ],
   "source": [
    "#Website API URL Structure\n",
    "url = \"api.openweathermap.org/data/2.5/weather?q=\"\n",
    "units = \"imperial\"\n",
    "\n",
    "query_url =f\"{url}?appid={weather_api_key}&units={units}&q=\"\n",
    "\n",
    "print(query_url)"
   ]
  },
  {
   "cell_type": "code",
   "execution_count": 4,
   "metadata": {},
   "outputs": [],
   "source": [
    "def cityQuery(city):\n",
    "    return f\"http://api.openweathermap.org/data/2.5/weather?appid={weather_api_key}&units={units}&q={city}\""
   ]
  },
  {
   "cell_type": "code",
   "execution_count": 5,
   "metadata": {},
   "outputs": [
    {
     "data": {
      "text/plain": [
       "'http://api.openweathermap.org/data/2.5/weather?appid=ceba7512950f5995f8972a84d840c215&units=imperial&q=mecca'"
      ]
     },
     "execution_count": 5,
     "metadata": {},
     "output_type": "execute_result"
    }
   ],
   "source": [
    "cityQuery('mecca')"
   ]
  },
  {
   "cell_type": "code",
   "execution_count": 70,
   "metadata": {},
   "outputs": [
    {
     "name": "stdout",
     "output_type": "stream",
     "text": [
      "Beginning Data Retrieval     \n",
      "-----------------------------\n",
      "Processing Record 1 of Set 1 | hermanus\n",
      "Processing Record 2 of Set 1 | ushuaia\n",
      "Processing Record 3 of Set 1 | vestmanna\n",
      "Processing Record 4 of Set 1 | tumannyy\n",
      "Processing Record 5 of Set 1 | husavik\n",
      "Processing Record 6 of Set 1 | tasiilaq\n",
      "Processing Record 7 of Set 1 | selma\n",
      "Processing Record 8 of Set 1 | dzhusaly\n",
      "Processing Record 9 of Set 1 | tshela\n",
      "Processing Record 10 of Set 1 | rikitea\n",
      "Processing Record 11 of Set 1 | ilulissat\n",
      "Processing Record 12 of Set 1 | hobart\n",
      "Processing Record 13 of Set 1 | butaritari\n",
      "Processing Record 14 of Set 1 | albany\n",
      "Processing Record 15 of Set 1 | humboldt\n",
      "Processing Record 16 of Set 1 | tura\n",
      "Processing Record 17 of Set 1 | pasni\n",
      "Processing Record 18 of Set 1 | qaanaaq\n",
      "Processing Record 19 of Set 1 | iqaluit\n",
      "Processing Record 20 of Set 1 | atuona\n",
      "Processing Record 21 of Set 1 | punta arenas\n",
      "Processing Record 22 of Set 1 | veinticinco de mayo\n",
      "Processing Record 23 of Set 1 | mataura\n",
      "Processing Record 24 of Set 1 | mandera\n",
      "Processing Record 25 of Set 1 | esfarayen\n",
      "Processing Record 26 of Set 1 | castro\n",
      "Processing Record 27 of Set 1 | loukhi\n",
      "Processing Record 28 of Set 1 | macau\n",
      "Processing Record 29 of Set 1 | hami\n",
      "Processing Record 30 of Set 1 | taolanaro\n",
      "Processing Record 31 of Set 1 | upernavik\n",
      "Processing Record 32 of Set 1 | amuntai\n",
      "Processing Record 33 of Set 1 | salalah\n",
      "Processing Record 34 of Set 1 | tuktoyaktuk\n",
      "Processing Record 35 of Set 1 | vila\n",
      "Processing Record 36 of Set 1 | caravelas\n",
      "Processing Record 37 of Set 1 | southbridge\n",
      "Processing Record 38 of Set 1 | illoqqortoormiut\n",
      "Processing Record 39 of Set 1 | maumere\n",
      "Processing Record 40 of Set 1 | kapaa\n",
      "Processing Record 41 of Set 1 | sao joao da barra\n",
      "Processing Record 42 of Set 1 | jamestown\n",
      "Processing Record 43 of Set 1 | trujillo\n",
      "Processing Record 44 of Set 1 | narsaq\n",
      "Processing Record 45 of Set 1 | geraldton\n",
      "Processing Record 46 of Set 1 | kalmunai\n",
      "Processing Record 47 of Set 1 | avarua\n",
      "Processing Record 48 of Set 1 | puerto ayora\n",
      "Processing Record 49 of Set 1 | barrow\n",
      "Processing Record 50 of Set 1 | ribeira grande\n",
      "Processing Record 0 of Set 2 | new norfolk\n",
      "Processing Record 1 of Set 2 | san patricio\n",
      "Processing Record 2 of Set 2 | belushya guba\n",
      "Processing Record 3 of Set 2 | hilo\n",
      "Processing Record 4 of Set 2 | longyearbyen\n",
      "Processing Record 5 of Set 2 | sangar\n",
      "Processing Record 6 of Set 2 | fallon\n",
      "Processing Record 7 of Set 2 | busselton\n",
      "Processing Record 8 of Set 2 | airai\n",
      "Processing Record 9 of Set 2 | jawad\n",
      "Processing Record 10 of Set 2 | margate\n",
      "Processing Record 11 of Set 2 | ostersund\n",
      "Processing Record 12 of Set 2 | mavrovi anovi\n",
      "Processing Record 13 of Set 2 | segezha\n",
      "Processing Record 14 of Set 2 | dingle\n",
      "Processing Record 15 of Set 2 | atar\n",
      "Processing Record 16 of Set 2 | bredasdorp\n",
      "Processing Record 17 of Set 2 | dongsheng\n",
      "Processing Record 18 of Set 2 | ishigaki\n",
      "Processing Record 19 of Set 2 | vaini\n",
      "Processing Record 20 of Set 2 | cockburn town\n",
      "Processing Record 21 of Set 2 | kamaishi\n",
      "Processing Record 22 of Set 2 | georgetown\n",
      "Processing Record 23 of Set 2 | bichura\n",
      "Processing Record 24 of Set 2 | yellowknife\n",
      "Processing Record 25 of Set 2 | mahebourg\n",
      "Processing Record 26 of Set 2 | atbasar\n",
      "Processing Record 27 of Set 2 | lompoc\n",
      "Processing Record 28 of Set 2 | lorengau\n",
      "Processing Record 29 of Set 2 | kaitangata\n",
      "Processing Record 30 of Set 2 | nikolskoye\n",
      "Processing Record 31 of Set 2 | tromso\n",
      "Processing Record 32 of Set 2 | kavaratti\n",
      "Processing Record 33 of Set 2 | cayenne\n",
      "Processing Record 34 of Set 2 | namatanai\n",
      "Processing Record 35 of Set 2 | chuy\n",
      "Processing Record 36 of Set 2 | lagoa\n",
      "Processing Record 37 of Set 2 | svetlaya\n",
      "Processing Record 38 of Set 2 | pitimbu\n",
      "Processing Record 39 of Set 2 | bluff\n",
      "Processing Record 40 of Set 2 | thompson\n",
      "Processing Record 41 of Set 2 | tarudant\n",
      "Processing Record 42 of Set 2 | bambous virieux\n",
      "Processing Record 43 of Set 2 | victoria\n",
      "Processing Record 44 of Set 2 | we\n",
      "Processing Record 45 of Set 2 | cidreira\n",
      "Processing Record 46 of Set 2 | praia\n",
      "Processing Record 47 of Set 2 | tiksi\n",
      "Processing Record 48 of Set 2 | dhankuta\n",
      "Processing Record 49 of Set 2 | penarth\n",
      "Processing Record 0 of Set 3 | cape town\n",
      "Processing Record 1 of Set 3 | araouane\n",
      "Processing Record 2 of Set 3 | hithadhoo\n",
      "Processing Record 3 of Set 3 | nizhneyansk\n",
      "Processing Record 4 of Set 3 | kharabali\n",
      "Processing Record 5 of Set 3 | morros\n",
      "Processing Record 6 of Set 3 | mayya\n",
      "Processing Record 7 of Set 3 | bathsheba\n",
      "Processing Record 8 of Set 3 | thohoyandou\n",
      "Processing Record 9 of Set 3 | kushima\n",
      "Processing Record 10 of Set 3 | wa\n",
      "Processing Record 11 of Set 3 | saquarema\n",
      "Processing Record 12 of Set 3 | dunedin\n",
      "Processing Record 13 of Set 3 | port alfred\n",
      "Processing Record 14 of Set 3 | almaznyy\n",
      "Processing Record 15 of Set 3 | ipira\n",
      "Processing Record 16 of Set 3 | codrington\n",
      "Processing Record 17 of Set 3 | roma\n",
      "Processing Record 18 of Set 3 | carnarvon\n",
      "Processing Record 19 of Set 3 | talnakh\n",
      "Processing Record 20 of Set 3 | umzimvubu\n",
      "Processing Record 21 of Set 3 | ust-nera\n",
      "Processing Record 22 of Set 3 | komsomolskiy\n",
      "Processing Record 23 of Set 3 | sobolevo\n",
      "Processing Record 24 of Set 3 | mys shmidta\n",
      "Processing Record 25 of Set 3 | beringovskiy\n",
      "Processing Record 26 of Set 3 | hasaki\n",
      "Processing Record 27 of Set 3 | ballina\n",
      "Processing Record 28 of Set 3 | saldanha\n",
      "Processing Record 29 of Set 3 | broome\n",
      "Processing Record 30 of Set 3 | lafayette\n",
      "Processing Record 31 of Set 3 | attawapiskat\n",
      "Processing Record 32 of Set 3 | arraial do cabo\n",
      "Processing Record 33 of Set 3 | chagda\n",
      "Processing Record 34 of Set 3 | paamiut\n",
      "Processing Record 35 of Set 3 | finspang\n",
      "Processing Record 36 of Set 3 | khatanga\n",
      "Processing Record 37 of Set 3 | maningrida\n",
      "Processing Record 38 of Set 3 | saleaula\n",
      "Processing Record 39 of Set 3 | lebu\n",
      "Processing Record 40 of Set 3 | bubaque\n",
      "Processing Record 41 of Set 3 | arica\n",
      "Processing Record 42 of Set 3 | hambantota\n",
      "Processing Record 43 of Set 3 | san quintin\n",
      "Processing Record 44 of Set 3 | haines junction\n",
      "Processing Record 45 of Set 3 | panaba\n",
      "Processing Record 46 of Set 3 | saint anthony\n",
      "Processing Record 47 of Set 3 | east london\n",
      "Processing Record 48 of Set 3 | faya\n",
      "Processing Record 49 of Set 3 | latung\n",
      "Processing Record 0 of Set 4 | vaitupu\n",
      "Processing Record 1 of Set 4 | maldonado\n",
      "Processing Record 2 of Set 4 | penzance\n",
      "Processing Record 3 of Set 4 | jiexiu\n",
      "Processing Record 4 of Set 4 | pilar\n",
      "Processing Record 5 of Set 4 | san luis\n",
      "Processing Record 6 of Set 4 | boralday\n",
      "Processing Record 7 of Set 4 | ponta delgada\n",
      "Processing Record 8 of Set 4 | steenwijk\n",
      "Processing Record 9 of Set 4 | stowe\n",
      "Processing Record 10 of Set 4 | mar del plata\n",
      "Processing Record 11 of Set 4 | barranca\n",
      "Processing Record 12 of Set 4 | port elizabeth\n",
      "Processing Record 13 of Set 4 | ambulu\n",
      "Processing Record 14 of Set 4 | bafoulabe\n",
      "Processing Record 15 of Set 4 | pudozh\n",
      "Processing Record 16 of Set 4 | kutum\n",
      "Processing Record 17 of Set 4 | vestmannaeyjar\n",
      "Processing Record 18 of Set 4 | avera\n",
      "Processing Record 19 of Set 4 | pangnirtung\n",
      "Processing Record 20 of Set 4 | coahuayana\n",
      "Processing Record 21 of Set 4 | brae\n",
      "Processing Record 22 of Set 4 | hirara\n",
      "Processing Record 23 of Set 4 | teya\n",
      "Processing Record 24 of Set 4 | ngukurr\n",
      "Processing Record 25 of Set 4 | balaipungut\n",
      "Processing Record 26 of Set 4 | abha\n",
      "Processing Record 27 of Set 4 | baykit\n",
      "Processing Record 28 of Set 4 | grand river south east\n",
      "Processing Record 29 of Set 4 | novikovo\n",
      "Processing Record 30 of Set 4 | scottsburgh\n",
      "Processing Record 31 of Set 4 | naron\n",
      "Processing Record 32 of Set 4 | norman wells\n",
      "Processing Record 33 of Set 4 | ambodifototra\n",
      "Processing Record 34 of Set 4 | dudinka\n",
      "Processing Record 35 of Set 4 | chokurdakh\n",
      "Processing Record 36 of Set 4 | clyde river\n",
      "Processing Record 37 of Set 4 | mayo\n",
      "Processing Record 38 of Set 4 | mancora\n",
      "Processing Record 39 of Set 4 | savannah bight\n",
      "Processing Record 40 of Set 4 | ancud\n",
      "Processing Record 41 of Set 4 | mweka\n",
      "Processing Record 42 of Set 4 | alta floresta\n",
      "Processing Record 43 of Set 4 | juegang\n",
      "Processing Record 44 of Set 4 | hofn\n",
      "Processing Record 45 of Set 4 | saint-philippe\n",
      "Processing Record 46 of Set 4 | coquimbo\n",
      "Processing Record 47 of Set 4 | palabuhanratu\n",
      "Processing Record 48 of Set 4 | samusu\n",
      "Processing Record 49 of Set 4 | dalbandin\n",
      "Processing Record 0 of Set 5 | zlatoustovsk\n",
      "Processing Record 1 of Set 5 | seoul\n",
      "Processing Record 2 of Set 5 | lixourion\n",
      "Processing Record 3 of Set 5 | muros\n",
      "Processing Record 4 of Set 5 | itaituba\n",
      "Processing Record 5 of Set 5 | awjilah\n",
      "Processing Record 6 of Set 5 | ostroleka\n",
      "Processing Record 7 of Set 5 | chicama\n",
      "Processing Record 8 of Set 5 | kampot\n",
      "Processing Record 9 of Set 5 | bengkulu\n",
      "Processing Record 10 of Set 5 | galle\n",
      "Processing Record 11 of Set 5 | anadyr\n",
      "Processing Record 12 of Set 5 | necochea\n",
      "Processing Record 13 of Set 5 | namanga\n",
      "Processing Record 14 of Set 5 | vostok\n",
      "Processing Record 15 of Set 5 | sayan\n",
      "Processing Record 16 of Set 5 | pavelets\n",
      "Processing Record 17 of Set 5 | srednebelaya\n",
      "Processing Record 18 of Set 5 | sidi ali\n",
      "Processing Record 19 of Set 5 | cherskiy\n",
      "Processing Record 20 of Set 5 | craig\n",
      "Processing Record 21 of Set 5 | stornoway\n",
      "Processing Record 22 of Set 5 | gimli\n",
      "Processing Record 23 of Set 5 | flinders\n",
      "Processing Record 24 of Set 5 | vostochnyy\n",
      "Processing Record 25 of Set 5 | kahului\n",
      "Processing Record 26 of Set 5 | susurluk\n",
      "Processing Record 27 of Set 5 | bay-khaak\n",
      "Processing Record 28 of Set 5 | lewiston\n",
      "Processing Record 29 of Set 5 | turukhansk\n",
      "Processing Record 30 of Set 5 | zhangjiakou\n",
      "Processing Record 31 of Set 5 | provideniya\n",
      "Processing Record 32 of Set 5 | dagua\n",
      "Processing Record 33 of Set 5 | alburikent\n",
      "Processing Record 34 of Set 5 | seredka\n",
      "Processing Record 35 of Set 5 | kalengwa\n",
      "Processing Record 36 of Set 5 | bouake\n",
      "Processing Record 37 of Set 5 | dirba\n",
      "Processing Record 38 of Set 5 | gazli\n",
      "Processing Record 39 of Set 5 | whitehorse\n",
      "Processing Record 40 of Set 5 | svetlogorsk\n",
      "Processing Record 41 of Set 5 | faanui\n",
      "Processing Record 42 of Set 5 | sao filipe\n",
      "Processing Record 43 of Set 5 | chebenki\n",
      "Processing Record 44 of Set 5 | ulagan\n",
      "Processing Record 45 of Set 5 | bereda\n",
      "Processing Record 46 of Set 5 | mizan teferi\n",
      "Processing Record 47 of Set 5 | port lincoln\n",
      "Processing Record 48 of Set 5 | vryburg\n",
      "Processing Record 49 of Set 5 | nouadhibou\n",
      "Processing Record 0 of Set 6 | karaul\n",
      "Processing Record 1 of Set 6 | sinj\n",
      "Processing Record 2 of Set 6 | lishui\n",
      "Processing Record 3 of Set 6 | alghero\n",
      "Processing Record 4 of Set 6 | kawalu\n",
      "Processing Record 5 of Set 6 | marathopolis\n",
      "Processing Record 6 of Set 6 | torbay\n",
      "Processing Record 7 of Set 6 | marcona\n",
      "Processing Record 8 of Set 6 | rocha\n",
      "Processing Record 9 of Set 6 | flagstaff\n",
      "Processing Record 10 of Set 6 | fizesu gherlii\n",
      "Processing Record 11 of Set 6 | ponta do sol\n",
      "Processing Record 12 of Set 6 | rome\n",
      "Processing Record 13 of Set 6 | ugoofaaru\n",
      "Processing Record 14 of Set 6 | sentyabrskiy\n",
      "Processing Record 15 of Set 6 | northam\n",
      "Processing Record 16 of Set 6 | lethem\n",
      "Processing Record 17 of Set 6 | satitoa\n",
      "Processing Record 18 of Set 6 | buin\n",
      "Processing Record 19 of Set 6 | amapa\n",
      "Processing Record 20 of Set 6 | cabo san lucas\n",
      "Processing Record 21 of Set 6 | laguna\n",
      "Processing Record 22 of Set 6 | lolua\n",
      "Processing Record 23 of Set 6 | borzya\n",
      "Processing Record 24 of Set 6 | nguiu\n",
      "Processing Record 25 of Set 6 | el bagre\n",
      "Processing Record 26 of Set 6 | maceio\n",
      "Processing Record 27 of Set 6 | lazaro cardenas\n",
      "Processing Record 28 of Set 6 | klaksvik\n",
      "Processing Record 29 of Set 6 | caranavi\n",
      "Processing Record 30 of Set 6 | pemba\n",
      "Processing Record 31 of Set 6 | pevek\n",
      "Processing Record 32 of Set 6 | moengo\n",
      "Processing Record 33 of Set 6 | cozumel\n",
      "Processing Record 34 of Set 6 | ferme-neuve\n",
      "Processing Record 35 of Set 6 | sri aman\n",
      "Processing Record 36 of Set 6 | nha trang\n",
      "Processing Record 37 of Set 6 | marzuq\n",
      "Processing Record 38 of Set 6 | kavieng\n",
      "Processing Record 39 of Set 6 | newcastle\n",
      "Processing Record 40 of Set 6 | asau\n",
      "Processing Record 41 of Set 6 | yulara\n",
      "Processing Record 42 of Set 6 | quatre cocos\n",
      "Processing Record 43 of Set 6 | severo-kurilsk\n",
      "Processing Record 44 of Set 6 | bonthe\n",
      "Processing Record 45 of Set 6 | guaiba\n",
      "Processing Record 46 of Set 6 | khandyga\n",
      "Processing Record 47 of Set 6 | nampula\n",
      "Processing Record 48 of Set 6 | gopalpur\n",
      "Processing Record 49 of Set 6 | palafrugell\n",
      "Processing Record 0 of Set 7 | grindavik\n",
      "Processing Record 1 of Set 7 | zaozerne\n",
      "Processing Record 2 of Set 7 | san cristobal\n",
      "Processing Record 3 of Set 7 | giyon\n",
      "Processing Record 4 of Set 7 | santa vitoria do palmar\n",
      "Processing Record 5 of Set 7 | touros\n",
      "Processing Record 6 of Set 7 | ayna\n",
      "Processing Record 7 of Set 7 | barra do garcas\n",
      "Processing Record 8 of Set 7 | sherbakul\n",
      "Processing Record 9 of Set 7 | puerto berrio\n",
      "Processing Record 10 of Set 7 | ketchikan\n",
      "Processing Record 11 of Set 7 | jiuquan\n",
      "Processing Record 12 of Set 7 | nome\n",
      "Processing Record 13 of Set 7 | juba\n",
      "Processing Record 14 of Set 7 | chandbali\n",
      "Processing Record 15 of Set 7 | nhulunbuy\n",
      "Processing Record 16 of Set 7 | qobustan\n",
      "Processing Record 17 of Set 7 | vanavara\n",
      "Processing Record 18 of Set 7 | bonavista\n",
      "Processing Record 19 of Set 7 | the valley\n",
      "Processing Record 20 of Set 7 | mackay\n",
      "Processing Record 21 of Set 7 | el alto\n",
      "Processing Record 22 of Set 7 | acari\n",
      "Processing Record 23 of Set 7 | west bay\n",
      "Processing Record 24 of Set 7 | podosinovets\n",
      "Processing Record 25 of Set 7 | big bend\n",
      "Processing Record 26 of Set 7 | vung tau\n",
      "Processing Record 27 of Set 7 | eenhana\n",
      "Processing Record 28 of Set 7 | piotrkow trybunalski\n",
      "Processing Record 29 of Set 7 | maniitsoq\n",
      "Processing Record 30 of Set 7 | katastarion\n",
      "Processing Record 31 of Set 7 | mittagong\n",
      "Processing Record 32 of Set 7 | richards bay\n",
      "Processing Record 33 of Set 7 | udachnyy\n",
      "Processing Record 34 of Set 7 | forio\n",
      "Processing Record 35 of Set 7 | ahipara\n",
      "Processing Record 36 of Set 7 | kaohsiung\n",
      "Processing Record 37 of Set 7 | kefamenanu\n",
      "Processing Record 38 of Set 7 | krasnovishersk\n",
      "Processing Record 39 of Set 7 | bontang\n",
      "Processing Record 40 of Set 7 | ajdabiya\n",
      "Processing Record 41 of Set 7 | esterhazy\n",
      "Processing Record 42 of Set 7 | ossora\n",
      "Processing Record 43 of Set 7 | vao\n",
      "Processing Record 44 of Set 7 | trinidad\n",
      "Processing Record 45 of Set 7 | grand gaube\n",
      "Processing Record 46 of Set 7 | saint-augustin\n",
      "Processing Record 47 of Set 7 | asilah\n",
      "Processing Record 48 of Set 7 | kaa-khem\n",
      "Processing Record 49 of Set 7 | gnjilane\n",
      "Processing Record 0 of Set 8 | luganville\n",
      "Processing Record 1 of Set 8 | kytlym\n",
      "Processing Record 2 of Set 8 | sola\n",
      "Processing Record 3 of Set 8 | brownwood\n",
      "Processing Record 4 of Set 8 | roald\n",
      "Processing Record 5 of Set 8 | waipawa\n",
      "Processing Record 6 of Set 8 | mehamn\n",
      "Processing Record 7 of Set 8 | valerik\n",
      "Processing Record 8 of Set 8 | jiddah\n",
      "Processing Record 9 of Set 8 | belaya gora\n",
      "Processing Record 10 of Set 8 | lalmohan\n",
      "Processing Record 11 of Set 8 | mvuma\n",
      "Processing Record 12 of Set 8 | fort-shevchenko\n",
      "Processing Record 13 of Set 8 | marawi\n",
      "Processing Record 14 of Set 8 | vila franca do campo\n",
      "Processing Record 15 of Set 8 | kodiak\n",
      "Processing Record 16 of Set 8 | yumen\n",
      "Processing Record 17 of Set 8 | buala\n",
      "Processing Record 18 of Set 8 | cooma\n",
      "Processing Record 19 of Set 8 | jibuti\n",
      "Processing Record 20 of Set 8 | neuquen\n",
      "Processing Record 21 of Set 8 | batemans bay\n",
      "Processing Record 22 of Set 8 | nanakuli\n",
      "Processing Record 23 of Set 8 | baltay\n",
      "Processing Record 24 of Set 8 | pesca\n",
      "Processing Record 25 of Set 8 | krasnoarmeysk\n",
      "Processing Record 26 of Set 8 | west richland\n",
      "Processing Record 27 of Set 8 | hamilton\n",
      "Processing Record 28 of Set 8 | katsuura\n",
      "Processing Record 29 of Set 8 | tarakan\n",
      "Processing Record 30 of Set 8 | camopi\n",
      "Processing Record 31 of Set 8 | amurzet\n",
      "Processing Record 32 of Set 8 | rokiskis\n",
      "Processing Record 33 of Set 8 | camacha\n",
      "Processing Record 34 of Set 8 | amderma\n",
      "Processing Record 35 of Set 8 | abu samrah\n",
      "Processing Record 36 of Set 8 | the pas\n",
      "Processing Record 37 of Set 8 | mwinilunga\n",
      "Processing Record 38 of Set 8 | mnogovershinnyy\n",
      "Processing Record 39 of Set 8 | los llanos de aridane\n",
      "Processing Record 40 of Set 8 | belmonte\n",
      "Processing Record 41 of Set 8 | sungaipenuh\n",
      "Processing Record 42 of Set 8 | tadine\n",
      "Processing Record 43 of Set 8 | koumac\n",
      "Processing Record 44 of Set 8 | kamenskoye\n",
      "Processing Record 45 of Set 8 | tarko-sale\n",
      "Processing Record 46 of Set 8 | hwange\n",
      "Processing Record 47 of Set 8 | kousseri\n",
      "Processing Record 48 of Set 8 | panjab\n",
      "Processing Record 49 of Set 8 | taoudenni\n",
      "Processing Record 0 of Set 9 | nacala\n",
      "Processing Record 1 of Set 9 | leh\n",
      "Processing Record 2 of Set 9 | rio grande\n",
      "Processing Record 3 of Set 9 | veraval\n",
      "Processing Record 4 of Set 9 | sandwick\n",
      "Processing Record 5 of Set 9 | leningradskiy\n",
      "Processing Record 6 of Set 9 | yagoua\n",
      "Processing Record 7 of Set 9 | ayios matthaios\n",
      "Processing Record 8 of Set 9 | zhezkazgan\n",
      "Processing Record 9 of Set 9 | santiago del estero\n",
      "Processing Record 10 of Set 9 | hovd\n",
      "Processing Record 11 of Set 9 | champerico\n",
      "Processing Record 12 of Set 9 | tokat\n",
      "Processing Record 13 of Set 9 | rabo de peixe\n",
      "Processing Record 14 of Set 9 | luderitz\n",
      "Processing Record 15 of Set 9 | sur\n",
      "Processing Record 16 of Set 9 | yuksekova\n",
      "Processing Record 17 of Set 9 | cabo rojo\n",
      "Processing Record 18 of Set 9 | srednekolymsk\n",
      "Processing Record 19 of Set 9 | wailuku\n",
      "Processing Record 20 of Set 9 | erenhot\n",
      "Processing Record 21 of Set 9 | jeremie\n",
      "Processing Record 22 of Set 9 | golaghat\n",
      "Processing Record 23 of Set 9 | pisco\n",
      "Processing Record 24 of Set 9 | deep river\n",
      "Processing Record 25 of Set 9 | zhanaozen\n",
      "Processing Record 26 of Set 9 | hay river\n",
      "Processing Record 27 of Set 9 | whitianga\n",
      "Processing Record 28 of Set 9 | kedrovyy\n",
      "Processing Record 29 of Set 9 | russell\n",
      "Processing Record 30 of Set 9 | andenes\n",
      "Processing Record 31 of Set 9 | kaili\n",
      "Processing Record 32 of Set 9 | maloy\n",
      "Processing Record 33 of Set 9 | rorvik\n",
      "Processing Record 34 of Set 9 | adrar\n",
      "Processing Record 35 of Set 9 | kaifeng\n",
      "Processing Record 36 of Set 9 | deputatskiy\n",
      "Processing Record 37 of Set 9 | lavrentiya\n",
      "Processing Record 38 of Set 9 | belyy yar\n",
      "Processing Record 39 of Set 9 | fairbanks\n",
      "Processing Record 40 of Set 9 | sterling\n",
      "Processing Record 41 of Set 9 | sampit\n",
      "Processing Record 42 of Set 9 | auki\n",
      "Processing Record 43 of Set 9 | gidam\n",
      "Processing Record 44 of Set 9 | karratha\n",
      "Processing Record 45 of Set 9 | viligili\n",
      "Processing Record 46 of Set 9 | castro-urdiales\n",
      "Processing Record 47 of Set 9 | dusti\n",
      "Processing Record 48 of Set 9 | algiers\n",
      "Processing Record 49 of Set 9 | piacabucu\n",
      "Processing Record 0 of Set 10 | shenkursk\n",
      "Processing Record 1 of Set 10 | oistins\n",
      "Processing Record 2 of Set 10 | bilibino\n",
      "Processing Record 3 of Set 10 | san ignacio\n",
      "Processing Record 4 of Set 10 | ji-parana\n",
      "Processing Record 5 of Set 10 | barcelos\n",
      "Processing Record 6 of Set 10 | christchurch\n",
      "Processing Record 7 of Set 10 | constitucion\n",
      "Processing Record 8 of Set 10 | vardo\n",
      "Processing Record 9 of Set 10 | road town\n",
      "Processing Record 10 of Set 10 | maxixe\n",
      "Processing Record 11 of Set 10 | akdepe\n",
      "Processing Record 12 of Set 10 | phan rang\n",
      "Processing Record 13 of Set 10 | barentsburg\n",
      "Processing Record 14 of Set 10 | thinadhoo\n",
      "Processing Record 15 of Set 10 | tessalit\n",
      "Processing Record 16 of Set 10 | grimshaw\n",
      "Processing Record 17 of Set 10 | biu\n",
      "Processing Record 18 of Set 10 | clinton\n",
      "Processing Record 19 of Set 10 | leirvik\n",
      "Processing Record 20 of Set 10 | benghazi\n",
      "Processing Record 21 of Set 10 | omsukchan\n",
      "Processing Record 22 of Set 10 | aklavik\n",
      "Processing Record 23 of Set 10 | zarubino\n",
      "Processing Record 24 of Set 10 | lata\n",
      "Processing Record 25 of Set 10 | henties bay\n",
      "Processing Record 26 of Set 10 | macaboboni\n",
      "Processing Record 27 of Set 10 | kununurra\n",
      "Processing Record 28 of Set 10 | puerto cabezas\n",
      "Processing Record 29 of Set 10 | college\n",
      "Processing Record 30 of Set 10 | burnie\n",
      "Processing Record 31 of Set 10 | anloga\n",
      "Processing Record 32 of Set 10 | tungkang\n",
      "Processing Record 33 of Set 10 | tabiauea\n",
      "Processing Record 34 of Set 10 | wabag\n",
      "Processing Record 35 of Set 10 | natal\n",
      "Processing Record 36 of Set 10 | wanning\n",
      "Processing Record 37 of Set 10 | tevaitoa\n",
      "Processing Record 38 of Set 10 | manyana\n",
      "Processing Record 39 of Set 10 | havre-saint-pierre\n",
      "Processing Record 40 of Set 10 | bethel\n",
      "Processing Record 41 of Set 10 | alamosa\n",
      "Processing Record 42 of Set 10 | xaghra\n",
      "Processing Record 43 of Set 10 | karabash\n",
      "Processing Record 44 of Set 10 | isangel\n",
      "Processing Record 45 of Set 10 | baghdad\n",
      "Processing Record 46 of Set 10 | vendas novas\n",
      "Processing Record 47 of Set 10 | rio verde de mato grosso\n",
      "Processing Record 48 of Set 10 | mogadishu\n",
      "Processing Record 49 of Set 10 | helong\n",
      "Processing Record 0 of Set 11 | tazovskiy\n",
      "Processing Record 1 of Set 11 | umm kaddadah\n",
      "Processing Record 2 of Set 11 | vallenar\n",
      "Processing Record 3 of Set 11 | kananga\n",
      "Processing Record 4 of Set 11 | kano\n",
      "Processing Record 5 of Set 11 | dunkwa\n",
      "Processing Record 6 of Set 11 | nizhneudinsk\n",
      "Processing Record 7 of Set 11 | berlevag\n",
      "Processing Record 8 of Set 11 | santa maria\n",
      "Processing Record 9 of Set 11 | kulhudhuffushi\n",
      "Processing Record 10 of Set 11 | tarsus\n",
      "Processing Record 11 of Set 11 | filadelfia\n",
      "Processing Record 12 of Set 11 | alihe\n",
      "Processing Record 13 of Set 11 | imeni poliny osipenko\n",
      "Processing Record 14 of Set 11 | tripoli\n",
      "Processing Record 15 of Set 11 | galatas\n",
      "Processing Record 16 of Set 11 | malakal\n",
      "Processing Record 17 of Set 11 | manaure\n",
      "Processing Record 18 of Set 11 | jingdezhen\n",
      "Processing Record 19 of Set 11 | meadow lake\n",
      "Processing Record 20 of Set 11 | emba\n",
      "Processing Record 21 of Set 11 | crisan\n",
      "Processing Record 22 of Set 11 | basi\n",
      "Processing Record 23 of Set 11 | storforshei\n",
      "Processing Record 24 of Set 11 | venice\n",
      "Processing Record 25 of Set 11 | buraydah\n",
      "Processing Record 26 of Set 11 | ruatoria\n",
      "Processing Record 27 of Set 11 | tuatapere\n",
      "Processing Record 28 of Set 11 | konevo\n",
      "Processing Record 29 of Set 11 | dawson creek\n",
      "Processing Record 30 of Set 11 | broken hill\n",
      "Processing Record 31 of Set 11 | dalmatovo\n",
      "Processing Record 32 of Set 11 | la sarre\n",
      "Processing Record 33 of Set 11 | guerrero negro\n",
      "Processing Record 34 of Set 11 | linhares\n",
      "Processing Record 35 of Set 11 | van buren\n",
      "Processing Record 36 of Set 11 | borodino\n",
      "Processing Record 37 of Set 11 | halifax\n",
      "Processing Record 38 of Set 11 | amalapuram\n",
      "Processing Record 39 of Set 11 | souillac\n",
      "Processing Record 40 of Set 11 | inhambane\n",
      "Processing Record 41 of Set 11 | plettenberg bay\n",
      "Processing Record 42 of Set 11 | dzhebariki-khaya\n",
      "Processing Record 43 of Set 11 | sumbe\n",
      "Processing Record 44 of Set 11 | qinhuangdao\n",
      "Processing Record 45 of Set 11 | bridlington\n",
      "Processing Record 46 of Set 11 | vanderhoof\n",
      "Processing Record 47 of Set 11 | carutapera\n",
      "Processing Record 48 of Set 11 | toliary\n",
      "Processing Record 49 of Set 11 | taltal\n",
      "Processing Record 0 of Set 12 | butwal\n",
      "Processing Record 1 of Set 12 | urrao\n",
      "Processing Record 2 of Set 12 | itarema\n",
      "Processing Record 3 of Set 12 | eregli\n",
      "Processing Record 4 of Set 12 | wanaka\n",
      "Processing Record 5 of Set 12 | wuda\n",
      "Processing Record 6 of Set 12 | vikulovo\n",
      "Processing Record 7 of Set 12 | nakhon thai\n",
      "Processing Record 8 of Set 12 | chara\n",
      "Processing Record 9 of Set 12 | north bend\n",
      "Processing Record 10 of Set 12 | pacific grove\n",
      "Processing Record 11 of Set 12 | dikson\n",
      "Processing Record 12 of Set 12 | acuna\n",
      "Processing Record 13 of Set 12 | bom jesus\n",
      "Processing Record 14 of Set 12 | kysyl-syr\n",
      "Processing Record 15 of Set 12 | oxford\n",
      "Processing Record 16 of Set 12 | estelle\n",
      "Processing Record 17 of Set 12 | karkaralinsk\n",
      "Processing Record 18 of Set 12 | kabansk\n",
      "Processing Record 19 of Set 12 | doba\n",
      "Processing Record 20 of Set 12 | taperoa\n",
      "Processing Record 21 of Set 12 | matagami\n",
      "Processing Record 22 of Set 12 | eyl\n",
      "Processing Record 23 of Set 12 | comendador\n",
      "Processing Record 24 of Set 12 | galesong\n",
      "Processing Record 25 of Set 12 | sfantu gheorghe\n",
      "Processing Record 26 of Set 12 | port hardy\n",
      "Processing Record 27 of Set 12 | ortigueira\n",
      "Processing Record 28 of Set 12 | sorland\n",
      "Processing Record 29 of Set 12 | paraguacu\n",
      "Processing Record 30 of Set 12 | matay\n",
      "Processing Record 31 of Set 12 | takoradi\n",
      "Processing Record 32 of Set 12 | strezhevoy\n",
      "Processing Record 33 of Set 12 | waingapu\n",
      "Processing Record 34 of Set 12 | elizabeth city\n",
      "Processing Record 35 of Set 12 | ankazoabo\n",
      "Processing Record 36 of Set 12 | blagoyevo\n",
      "Processing Record 37 of Set 12 | poltava\n",
      "Processing Record 38 of Set 12 | tharrawaddy\n",
      "Processing Record 39 of Set 12 | tautira\n",
      "Processing Record 40 of Set 12 | puerto madryn\n",
      "Processing Record 41 of Set 12 | half moon bay\n",
      "Processing Record 42 of Set 12 | wakkanai\n",
      "Processing Record 43 of Set 12 | pandan\n",
      "Processing Record 44 of Set 12 | robertsport\n",
      "Processing Record 45 of Set 12 | irbil\n",
      "Processing Record 46 of Set 12 | maneadero\n",
      "Processing Record 47 of Set 12 | kruisfontein\n",
      "Processing Record 48 of Set 12 | andra\n",
      "Processing Record 49 of Set 12 | ilinskiy\n",
      "Processing Record 0 of Set 13 | lakselv\n",
      "Processing Record 1 of Set 13 | esperance\n",
      "Processing Record 2 of Set 13 | salta\n",
      "Processing Record 3 of Set 13 | zabol\n",
      "Processing Record 4 of Set 13 | hvammstangi\n",
      "Processing Record 5 of Set 13 | sorvag\n",
      "Processing Record 6 of Set 13 | petropavlovsk-kamchatskiy\n",
      "Processing Record 7 of Set 13 | diourbel\n",
      "Processing Record 8 of Set 13 | mareeba\n",
      "Processing Record 9 of Set 13 | ouesso\n",
      "Processing Record 10 of Set 13 | namtsy\n",
      "Processing Record 11 of Set 13 | sitka\n",
      "Processing Record 12 of Set 13 | tahta\n",
      "Processing Record 13 of Set 13 | carauari\n",
      "Processing Record 14 of Set 13 | goderich\n",
      "Processing Record 15 of Set 13 | nizwa\n",
      "Processing Record 16 of Set 13 | cam pha\n",
      "Processing Record 17 of Set 13 | luocheng\n",
      "Processing Record 18 of Set 13 | kushalgarh\n",
      "Processing Record 19 of Set 13 | caraquet\n",
      "Processing Record 20 of Set 13 | makung\n",
      "Processing Record 21 of Set 13 | sibi\n",
      "Processing Record 22 of Set 13 | toktogul\n",
      "Processing Record 23 of Set 13 | namibe\n",
      "Processing Record 24 of Set 13 | lawton\n",
      "Processing Record 25 of Set 13 | kabalo\n",
      "Processing Record 26 of Set 13 | fethiye\n",
      "Processing Record 27 of Set 13 | tsihombe\n",
      "Processing Record 28 of Set 13 | gat\n",
      "Processing Record 29 of Set 13 | paita\n",
      "Processing Record 30 of Set 13 | tres arroyos\n",
      "-----------------------------\n",
      "Data Retrieval Complete      \n",
      "-----------------------------\n"
     ]
    }
   ],
   "source": [
    "# Print to logger\n",
    "print(\"Beginning Data Retrieval     \")\n",
    "print(\"-----------------------------\")\n",
    "\n",
    "# Create counters\n",
    "records = 1\n",
    "sets = 1\n",
    "\n",
    "\n",
    "for i, city in enumerate(cities):\n",
    "    \n",
    "    # Group cities in sets of 50 for logging purposes\n",
    "    \n",
    "    if (i % 50 == 0 and i >= 50):\n",
    "        sets += 1\n",
    "        records = 0\n",
    "    \n",
    "    # Log the record, and set numbers\n",
    "    print(\"Processing Record %s of Set %s | %s\" % (records, sets, city))\n",
    "    \n",
    "    # Add 1 to the record count\n",
    "    records += 1\n",
    "   \n",
    "    # Run an API request for each of the cities\n",
    "    try:\n",
    "       weather_info.append({'City':response['name'],\n",
    "                         'Country':response['sys']['country'],\n",
    "                         'Date':response['dt'],\n",
    "                         'lat':response['coord']['lat'],\n",
    "                         'lng':response['coord']['lon'],\n",
    "                         'Humidity':response['main']['humidity'],\n",
    "                          'Wind Speed':response['wind']['speed'],\n",
    "                          'Max Temp':response['main']['temp_max'],\n",
    "                          'Cloudiness':response['clouds']['all']})\n",
    "             \n",
    "    except Exception as e:\n",
    "        print(\"City not found. Skipping...\")\n",
    "        pass\n",
    "    \n",
    "# Indicate that Data Loading is complete \n",
    "print(\"-----------------------------\")\n",
    "print(\"Data Retrieval Complete      \")\n",
    "print(\"-----------------------------\")"
   ]
  },
  {
   "cell_type": "markdown",
   "metadata": {},
   "source": [
    "### Convert Raw Data to DataFrame\n",
    "* Export the city data into a .csv.\n",
    "* Display the DataFrame"
   ]
  },
  {
   "cell_type": "code",
   "execution_count": 74,
   "metadata": {},
   "outputs": [
    {
     "data": {
      "text/html": [
       "<div>\n",
       "<style scoped>\n",
       "    .dataframe tbody tr th:only-of-type {\n",
       "        vertical-align: middle;\n",
       "    }\n",
       "\n",
       "    .dataframe tbody tr th {\n",
       "        vertical-align: top;\n",
       "    }\n",
       "\n",
       "    .dataframe thead th {\n",
       "        text-align: right;\n",
       "    }\n",
       "</style>\n",
       "<table border=\"1\" class=\"dataframe\">\n",
       "  <thead>\n",
       "    <tr style=\"text-align: right;\">\n",
       "      <th></th>\n",
       "      <th>City</th>\n",
       "      <th>Country</th>\n",
       "      <th>Date</th>\n",
       "      <th>lat</th>\n",
       "      <th>lng</th>\n",
       "      <th>Humidity</th>\n",
       "      <th>Wind Speed</th>\n",
       "      <th>Max Temp</th>\n",
       "      <th>Cloudiness</th>\n",
       "    </tr>\n",
       "  </thead>\n",
       "  <tbody>\n",
       "    <tr>\n",
       "      <th>0</th>\n",
       "      <td>Hermanus</td>\n",
       "      <td>ZA</td>\n",
       "      <td>1585697097</td>\n",
       "      <td>-34.42</td>\n",
       "      <td>19.23</td>\n",
       "      <td>89</td>\n",
       "      <td>11.95</td>\n",
       "      <td>61.00</td>\n",
       "      <td>{'all': 34}</td>\n",
       "    </tr>\n",
       "    <tr>\n",
       "      <th>1</th>\n",
       "      <td>Ushuaia</td>\n",
       "      <td>AR</td>\n",
       "      <td>1585696974</td>\n",
       "      <td>-54.80</td>\n",
       "      <td>-68.30</td>\n",
       "      <td>76</td>\n",
       "      <td>12.75</td>\n",
       "      <td>48.20</td>\n",
       "      <td>{'all': 40}</td>\n",
       "    </tr>\n",
       "    <tr>\n",
       "      <th>2</th>\n",
       "      <td>Vestmanna</td>\n",
       "      <td>FO</td>\n",
       "      <td>1585697097</td>\n",
       "      <td>62.16</td>\n",
       "      <td>-7.17</td>\n",
       "      <td>87</td>\n",
       "      <td>28.86</td>\n",
       "      <td>44.60</td>\n",
       "      <td>{'all': 100}</td>\n",
       "    </tr>\n",
       "    <tr>\n",
       "      <th>3</th>\n",
       "      <td>Husavik</td>\n",
       "      <td>IS</td>\n",
       "      <td>1585697448</td>\n",
       "      <td>66.04</td>\n",
       "      <td>-17.34</td>\n",
       "      <td>51</td>\n",
       "      <td>39.15</td>\n",
       "      <td>39.20</td>\n",
       "      <td>{'all': 90}</td>\n",
       "    </tr>\n",
       "    <tr>\n",
       "      <th>4</th>\n",
       "      <td>Tasiilaq</td>\n",
       "      <td>GL</td>\n",
       "      <td>1585697448</td>\n",
       "      <td>65.61</td>\n",
       "      <td>-37.64</td>\n",
       "      <td>29</td>\n",
       "      <td>29.97</td>\n",
       "      <td>24.80</td>\n",
       "      <td>{'all': 2}</td>\n",
       "    </tr>\n",
       "    <tr>\n",
       "      <th>...</th>\n",
       "      <td>...</td>\n",
       "      <td>...</td>\n",
       "      <td>...</td>\n",
       "      <td>...</td>\n",
       "      <td>...</td>\n",
       "      <td>...</td>\n",
       "      <td>...</td>\n",
       "      <td>...</td>\n",
       "      <td>...</td>\n",
       "    </tr>\n",
       "    <tr>\n",
       "      <th>3099</th>\n",
       "      <td>Tres Arroyos</td>\n",
       "      <td>AR</td>\n",
       "      <td>1585697528</td>\n",
       "      <td>-38.37</td>\n",
       "      <td>-60.28</td>\n",
       "      <td>69</td>\n",
       "      <td>8.68</td>\n",
       "      <td>61.92</td>\n",
       "      <td>97</td>\n",
       "    </tr>\n",
       "    <tr>\n",
       "      <th>3100</th>\n",
       "      <td>Tres Arroyos</td>\n",
       "      <td>AR</td>\n",
       "      <td>1585697528</td>\n",
       "      <td>-38.37</td>\n",
       "      <td>-60.28</td>\n",
       "      <td>69</td>\n",
       "      <td>8.68</td>\n",
       "      <td>61.92</td>\n",
       "      <td>97</td>\n",
       "    </tr>\n",
       "    <tr>\n",
       "      <th>3101</th>\n",
       "      <td>Tres Arroyos</td>\n",
       "      <td>AR</td>\n",
       "      <td>1585697528</td>\n",
       "      <td>-38.37</td>\n",
       "      <td>-60.28</td>\n",
       "      <td>69</td>\n",
       "      <td>8.68</td>\n",
       "      <td>61.92</td>\n",
       "      <td>97</td>\n",
       "    </tr>\n",
       "    <tr>\n",
       "      <th>3102</th>\n",
       "      <td>Tres Arroyos</td>\n",
       "      <td>AR</td>\n",
       "      <td>1585697528</td>\n",
       "      <td>-38.37</td>\n",
       "      <td>-60.28</td>\n",
       "      <td>69</td>\n",
       "      <td>8.68</td>\n",
       "      <td>61.92</td>\n",
       "      <td>97</td>\n",
       "    </tr>\n",
       "    <tr>\n",
       "      <th>3103</th>\n",
       "      <td>Tres Arroyos</td>\n",
       "      <td>AR</td>\n",
       "      <td>1585697528</td>\n",
       "      <td>-38.37</td>\n",
       "      <td>-60.28</td>\n",
       "      <td>69</td>\n",
       "      <td>8.68</td>\n",
       "      <td>61.92</td>\n",
       "      <td>97</td>\n",
       "    </tr>\n",
       "  </tbody>\n",
       "</table>\n",
       "<p>3104 rows × 9 columns</p>\n",
       "</div>"
      ],
      "text/plain": [
       "              City Country        Date    lat    lng  Humidity  Wind Speed  \\\n",
       "0         Hermanus      ZA  1585697097 -34.42  19.23        89       11.95   \n",
       "1          Ushuaia      AR  1585696974 -54.80 -68.30        76       12.75   \n",
       "2        Vestmanna      FO  1585697097  62.16  -7.17        87       28.86   \n",
       "3          Husavik      IS  1585697448  66.04 -17.34        51       39.15   \n",
       "4         Tasiilaq      GL  1585697448  65.61 -37.64        29       29.97   \n",
       "...            ...     ...         ...    ...    ...       ...         ...   \n",
       "3099  Tres Arroyos      AR  1585697528 -38.37 -60.28        69        8.68   \n",
       "3100  Tres Arroyos      AR  1585697528 -38.37 -60.28        69        8.68   \n",
       "3101  Tres Arroyos      AR  1585697528 -38.37 -60.28        69        8.68   \n",
       "3102  Tres Arroyos      AR  1585697528 -38.37 -60.28        69        8.68   \n",
       "3103  Tres Arroyos      AR  1585697528 -38.37 -60.28        69        8.68   \n",
       "\n",
       "      Max Temp    Cloudiness  \n",
       "0        61.00   {'all': 34}  \n",
       "1        48.20   {'all': 40}  \n",
       "2        44.60  {'all': 100}  \n",
       "3        39.20   {'all': 90}  \n",
       "4        24.80    {'all': 2}  \n",
       "...        ...           ...  \n",
       "3099     61.92            97  \n",
       "3100     61.92            97  \n",
       "3101     61.92            97  \n",
       "3102     61.92            97  \n",
       "3103     61.92            97  \n",
       "\n",
       "[3104 rows x 9 columns]"
      ]
     },
     "metadata": {},
     "output_type": "display_data"
    },
    {
     "data": {
      "text/plain": [
       "City          3104\n",
       "Country       3104\n",
       "Date          3104\n",
       "lat           3104\n",
       "lng           3104\n",
       "Humidity      3104\n",
       "Wind Speed    3104\n",
       "Max Temp      3104\n",
       "Cloudiness    3104\n",
       "dtype: int64"
      ]
     },
     "execution_count": 74,
     "metadata": {},
     "output_type": "execute_result"
    }
   ],
   "source": [
    "#create dataframe\n",
    "city_data_pd = pd.DataFrame(weather_info)\n",
    "display(city_data_pd)\n",
    "\n",
    "left = city_data_pd['Cloudiness'].str[-3:]\n",
    "left\n",
    "\n",
    "lats = city_data_pd[\"lat\"]\n",
    "max_temps = city_data_pd[\"Max Temp\"]\n",
    "humidity = city_data_pd[\"Humidity\"]\n",
    "cloudiness = city_data_pd[\"Cloudiness\"]\n",
    "wind_speed = city_data_pd[\"Wind Speed\"]\n",
    "\n",
    "# Export the City_Data into a csv\n",
    "city_data_pd.to_csv(\"../output_data/cities.csv\", index_label=\"City_ID\")\n",
    "\n",
    "# Show Record Count\n",
    "city_data_pd.count()"
   ]
  },
  {
   "cell_type": "markdown",
   "metadata": {},
   "source": [
    "### Plotting the Data\n",
    "* Use proper labeling of the plots using plot titles (including date of analysis) and axes labels.\n",
    "* Save the plotted figures as .pngs."
   ]
  },
  {
   "cell_type": "markdown",
   "metadata": {},
   "source": [
    "#### Latitude vs. Temperature Plot"
   ]
  },
  {
   "cell_type": "code",
   "execution_count": 44,
   "metadata": {
    "scrolled": true
   },
   "outputs": [
    {
     "data": {
      "image/png": "[encoded data removed]",
      "text/plain": [
       "<Figure size 432x288 with 1 Axes>"
      ]
     },
     "metadata": {
      "needs_background": "light"
     },
     "output_type": "display_data"
    }
   ],
   "source": [
    "\n",
    "x_values = city_data_pd[\"lat\"]\n",
    "y_values = city_data_pd[\"Humidity\"]\n",
    "\n",
    "plt.scatter(x_values,y_values)\n",
    "\n",
    "plt.grid(True)\n",
    "\n",
    "plt.title(\"City Latitude vs Max Temperature (3/20/20)\")\n",
    "plt.xlabel(\"Latitude\")\n",
    "plt.ylabel(\"Max Temperature (F)\")\n",
    "plt.savefig(\"../Images/LatTemp.png\")\n",
    "plt.show()"
   ]
  },
  {
   "cell_type": "markdown",
   "metadata": {},
   "source": [
    "#### Latitude vs. Humidity Plot"
   ]
  },
  {
   "cell_type": "code",
   "execution_count": 45,
   "metadata": {},
   "outputs": [
    {
     "data": {
      "image/png": "[encoded data removed]",
      "text/plain": [
       "<Figure size 432x288 with 1 Axes>"
      ]
     },
     "metadata": {
      "needs_background": "light"
     },
     "output_type": "display_data"
    }
   ],
   "source": [
    "x_values = city_data_pd[\"lat\"]\n",
    "y_values = city_data_pd[\"Max Temp\"]\n",
    "\n",
    "plt.scatter(x_values,y_values)\n",
    "\n",
    "plt.grid(True)\n",
    "\n",
    "plt.title(\"City Latitude vs Humidity (3/20/20)\")\n",
    "plt.xlabel(\"Latitude\")\n",
    "plt.ylabel(\"Humidity \")\n",
    "plt.savefig(\"../Images/LatHumidity.png\")\n",
    "plt.show()"
   ]
  },
  {
   "cell_type": "markdown",
   "metadata": {},
   "source": [
    "#### Latitude vs. Cloudiness Plot"
   ]
  },
  {
   "cell_type": "code",
   "execution_count": 65,
   "metadata": {},
   "outputs": [
    {
     "ename": "TypeError",
     "evalue": "float() argument must be a string or a number, not 'dict'",
     "output_type": "error",
     "traceback": [
      "\u001b[0;31m---------------------------------------------------------------------------\u001b[0m",
      "\u001b[0;31mTypeError\u001b[0m                                 Traceback (most recent call last)",
      "\u001b[0;32m<ipython-input-65-8ffebd5a3081>\u001b[0m in \u001b[0;36m<module>\u001b[0;34m\u001b[0m\n\u001b[1;32m      2\u001b[0m \u001b[0my_values\u001b[0m \u001b[0;34m=\u001b[0m \u001b[0mcity_data_pd\u001b[0m\u001b[0;34m[\u001b[0m\u001b[0;34m\"Cloudiness\"\u001b[0m\u001b[0;34m]\u001b[0m\u001b[0;34m\u001b[0m\u001b[0;34m\u001b[0m\u001b[0m\n\u001b[1;32m      3\u001b[0m \u001b[0;34m\u001b[0m\u001b[0m\n\u001b[0;32m----> 4\u001b[0;31m \u001b[0mplt\u001b[0m\u001b[0;34m.\u001b[0m\u001b[0mscatter\u001b[0m\u001b[0;34m(\u001b[0m\u001b[0mx_values\u001b[0m\u001b[0;34m,\u001b[0m\u001b[0my_values\u001b[0m\u001b[0;34m)\u001b[0m\u001b[0;34m\u001b[0m\u001b[0;34m\u001b[0m\u001b[0m\n\u001b[0m\u001b[1;32m      5\u001b[0m \u001b[0;34m\u001b[0m\u001b[0m\n\u001b[1;32m      6\u001b[0m \u001b[0mplt\u001b[0m\u001b[0;34m.\u001b[0m\u001b[0mgrid\u001b[0m\u001b[0;34m(\u001b[0m\u001b[0;32mTrue\u001b[0m\u001b[0;34m)\u001b[0m\u001b[0;34m\u001b[0m\u001b[0;34m\u001b[0m\u001b[0m\n",
      "\u001b[0;32m~/opt/miniconda3/lib/python3.7/site-packages/matplotlib/pyplot.py\u001b[0m in \u001b[0;36mscatter\u001b[0;34m(x, y, s, c, marker, cmap, norm, vmin, vmax, alpha, linewidths, verts, edgecolors, plotnonfinite, data, **kwargs)\u001b[0m\n\u001b[1;32m   2845\u001b[0m         \u001b[0mverts\u001b[0m\u001b[0;34m=\u001b[0m\u001b[0mverts\u001b[0m\u001b[0;34m,\u001b[0m \u001b[0medgecolors\u001b[0m\u001b[0;34m=\u001b[0m\u001b[0medgecolors\u001b[0m\u001b[0;34m,\u001b[0m\u001b[0;34m\u001b[0m\u001b[0;34m\u001b[0m\u001b[0m\n\u001b[1;32m   2846\u001b[0m         plotnonfinite=plotnonfinite, **({\"data\": data} if data is not\n\u001b[0;32m-> 2847\u001b[0;31m         None else {}), **kwargs)\n\u001b[0m\u001b[1;32m   2848\u001b[0m     \u001b[0msci\u001b[0m\u001b[0;34m(\u001b[0m\u001b[0m__ret\u001b[0m\u001b[0;34m)\u001b[0m\u001b[0;34m\u001b[0m\u001b[0;34m\u001b[0m\u001b[0m\n\u001b[1;32m   2849\u001b[0m     \u001b[0;32mreturn\u001b[0m \u001b[0m__ret\u001b[0m\u001b[0;34m\u001b[0m\u001b[0;34m\u001b[0m\u001b[0m\n",
      "\u001b[0;32m~/opt/miniconda3/lib/python3.7/site-packages/matplotlib/__init__.py\u001b[0m in \u001b[0;36minner\u001b[0;34m(ax, data, *args, **kwargs)\u001b[0m\n\u001b[1;32m   1599\u001b[0m     \u001b[0;32mdef\u001b[0m \u001b[0minner\u001b[0m\u001b[0;34m(\u001b[0m\u001b[0max\u001b[0m\u001b[0;34m,\u001b[0m \u001b[0;34m*\u001b[0m\u001b[0margs\u001b[0m\u001b[0;34m,\u001b[0m \u001b[0mdata\u001b[0m\u001b[0;34m=\u001b[0m\u001b[0;32mNone\u001b[0m\u001b[0;34m,\u001b[0m \u001b[0;34m**\u001b[0m\u001b[0mkwargs\u001b[0m\u001b[0;34m)\u001b[0m\u001b[0;34m:\u001b[0m\u001b[0;34m\u001b[0m\u001b[0;34m\u001b[0m\u001b[0m\n\u001b[1;32m   1600\u001b[0m         \u001b[0;32mif\u001b[0m \u001b[0mdata\u001b[0m \u001b[0;32mis\u001b[0m \u001b[0;32mNone\u001b[0m\u001b[0;34m:\u001b[0m\u001b[0;34m\u001b[0m\u001b[0;34m\u001b[0m\u001b[0m\n\u001b[0;32m-> 1601\u001b[0;31m             \u001b[0;32mreturn\u001b[0m \u001b[0mfunc\u001b[0m\u001b[0;34m(\u001b[0m\u001b[0max\u001b[0m\u001b[0;34m,\u001b[0m \u001b[0;34m*\u001b[0m\u001b[0mmap\u001b[0m\u001b[0;34m(\u001b[0m\u001b[0msanitize_sequence\u001b[0m\u001b[0;34m,\u001b[0m \u001b[0margs\u001b[0m\u001b[0;34m)\u001b[0m\u001b[0;34m,\u001b[0m \u001b[0;34m**\u001b[0m\u001b[0mkwargs\u001b[0m\u001b[0;34m)\u001b[0m\u001b[0;34m\u001b[0m\u001b[0;34m\u001b[0m\u001b[0m\n\u001b[0m\u001b[1;32m   1602\u001b[0m \u001b[0;34m\u001b[0m\u001b[0m\n\u001b[1;32m   1603\u001b[0m         \u001b[0mbound\u001b[0m \u001b[0;34m=\u001b[0m \u001b[0mnew_sig\u001b[0m\u001b[0;34m.\u001b[0m\u001b[0mbind\u001b[0m\u001b[0;34m(\u001b[0m\u001b[0max\u001b[0m\u001b[0;34m,\u001b[0m \u001b[0;34m*\u001b[0m\u001b[0margs\u001b[0m\u001b[0;34m,\u001b[0m \u001b[0;34m**\u001b[0m\u001b[0mkwargs\u001b[0m\u001b[0;34m)\u001b[0m\u001b[0;34m\u001b[0m\u001b[0;34m\u001b[0m\u001b[0m\n",
      "\u001b[0;32m~/opt/miniconda3/lib/python3.7/site-packages/matplotlib/axes/_axes.py\u001b[0m in \u001b[0;36mscatter\u001b[0;34m(self, x, y, s, c, marker, cmap, norm, vmin, vmax, alpha, linewidths, verts, edgecolors, plotnonfinite, **kwargs)\u001b[0m\n\u001b[1;32m   4496\u001b[0m                 \u001b[0moffsets\u001b[0m\u001b[0;34m=\u001b[0m\u001b[0moffsets\u001b[0m\u001b[0;34m,\u001b[0m\u001b[0;34m\u001b[0m\u001b[0;34m\u001b[0m\u001b[0m\n\u001b[1;32m   4497\u001b[0m                 \u001b[0mtransOffset\u001b[0m\u001b[0;34m=\u001b[0m\u001b[0mkwargs\u001b[0m\u001b[0;34m.\u001b[0m\u001b[0mpop\u001b[0m\u001b[0;34m(\u001b[0m\u001b[0;34m'transform'\u001b[0m\u001b[0;34m,\u001b[0m \u001b[0mself\u001b[0m\u001b[0;34m.\u001b[0m\u001b[0mtransData\u001b[0m\u001b[0;34m)\u001b[0m\u001b[0;34m,\u001b[0m\u001b[0;34m\u001b[0m\u001b[0;34m\u001b[0m\u001b[0m\n\u001b[0;32m-> 4498\u001b[0;31m                 \u001b[0malpha\u001b[0m\u001b[0;34m=\u001b[0m\u001b[0malpha\u001b[0m\u001b[0;34m\u001b[0m\u001b[0;34m\u001b[0m\u001b[0m\n\u001b[0m\u001b[1;32m   4499\u001b[0m                 )\n\u001b[1;32m   4500\u001b[0m         \u001b[0mcollection\u001b[0m\u001b[0;34m.\u001b[0m\u001b[0mset_transform\u001b[0m\u001b[0;34m(\u001b[0m\u001b[0mmtransforms\u001b[0m\u001b[0;34m.\u001b[0m\u001b[0mIdentityTransform\u001b[0m\u001b[0;34m(\u001b[0m\u001b[0;34m)\u001b[0m\u001b[0;34m)\u001b[0m\u001b[0;34m\u001b[0m\u001b[0;34m\u001b[0m\u001b[0m\n",
      "\u001b[0;32m~/opt/miniconda3/lib/python3.7/site-packages/matplotlib/collections.py\u001b[0m in \u001b[0;36m__init__\u001b[0;34m(self, paths, sizes, **kwargs)\u001b[0m\n\u001b[1;32m    881\u001b[0m         \"\"\"\n\u001b[1;32m    882\u001b[0m \u001b[0;34m\u001b[0m\u001b[0m\n\u001b[0;32m--> 883\u001b[0;31m         \u001b[0mCollection\u001b[0m\u001b[0;34m.\u001b[0m\u001b[0m__init__\u001b[0m\u001b[0;34m(\u001b[0m\u001b[0mself\u001b[0m\u001b[0;34m,\u001b[0m \u001b[0;34m**\u001b[0m\u001b[0mkwargs\u001b[0m\u001b[0;34m)\u001b[0m\u001b[0;34m\u001b[0m\u001b[0;34m\u001b[0m\u001b[0m\n\u001b[0m\u001b[1;32m    884\u001b[0m         \u001b[0mself\u001b[0m\u001b[0;34m.\u001b[0m\u001b[0mset_paths\u001b[0m\u001b[0;34m(\u001b[0m\u001b[0mpaths\u001b[0m\u001b[0;34m)\u001b[0m\u001b[0;34m\u001b[0m\u001b[0;34m\u001b[0m\u001b[0m\n\u001b[1;32m    885\u001b[0m         \u001b[0mself\u001b[0m\u001b[0;34m.\u001b[0m\u001b[0mset_sizes\u001b[0m\u001b[0;34m(\u001b[0m\u001b[0msizes\u001b[0m\u001b[0;34m)\u001b[0m\u001b[0;34m\u001b[0m\u001b[0;34m\u001b[0m\u001b[0m\n",
      "\u001b[0;32m~/opt/miniconda3/lib/python3.7/site-packages/matplotlib/collections.py\u001b[0m in \u001b[0;36m__init__\u001b[0;34m(self, edgecolors, facecolors, linewidths, linestyles, capstyle, joinstyle, antialiaseds, offsets, transOffset, norm, cmap, pickradius, hatch, urls, offset_position, zorder, **kwargs)\u001b[0m\n\u001b[1;32m    149\u001b[0m         \u001b[0mself\u001b[0m\u001b[0;34m.\u001b[0m\u001b[0m_uniform_offsets\u001b[0m \u001b[0;34m=\u001b[0m \u001b[0;32mNone\u001b[0m\u001b[0;34m\u001b[0m\u001b[0;34m\u001b[0m\u001b[0m\n\u001b[1;32m    150\u001b[0m         \u001b[0;32mif\u001b[0m \u001b[0moffsets\u001b[0m \u001b[0;32mis\u001b[0m \u001b[0;32mnot\u001b[0m \u001b[0;32mNone\u001b[0m\u001b[0;34m:\u001b[0m\u001b[0;34m\u001b[0m\u001b[0;34m\u001b[0m\u001b[0m\n\u001b[0;32m--> 151\u001b[0;31m             \u001b[0moffsets\u001b[0m \u001b[0;34m=\u001b[0m \u001b[0mnp\u001b[0m\u001b[0;34m.\u001b[0m\u001b[0masanyarray\u001b[0m\u001b[0;34m(\u001b[0m\u001b[0moffsets\u001b[0m\u001b[0;34m,\u001b[0m \u001b[0mfloat\u001b[0m\u001b[0;34m)\u001b[0m\u001b[0;34m\u001b[0m\u001b[0;34m\u001b[0m\u001b[0m\n\u001b[0m\u001b[1;32m    152\u001b[0m             \u001b[0;31m# Broadcast (2,) -> (1, 2) but nothing else.\u001b[0m\u001b[0;34m\u001b[0m\u001b[0;34m\u001b[0m\u001b[0;34m\u001b[0m\u001b[0m\n\u001b[1;32m    153\u001b[0m             \u001b[0;32mif\u001b[0m \u001b[0moffsets\u001b[0m\u001b[0;34m.\u001b[0m\u001b[0mshape\u001b[0m \u001b[0;34m==\u001b[0m \u001b[0;34m(\u001b[0m\u001b[0;36m2\u001b[0m\u001b[0;34m,\u001b[0m\u001b[0;34m)\u001b[0m\u001b[0;34m:\u001b[0m\u001b[0;34m\u001b[0m\u001b[0;34m\u001b[0m\u001b[0m\n",
      "\u001b[0;32m~/opt/miniconda3/lib/python3.7/site-packages/numpy/core/_asarray.py\u001b[0m in \u001b[0;36masanyarray\u001b[0;34m(a, dtype, order)\u001b[0m\n\u001b[1;32m    136\u001b[0m \u001b[0;34m\u001b[0m\u001b[0m\n\u001b[1;32m    137\u001b[0m     \"\"\"\n\u001b[0;32m--> 138\u001b[0;31m     \u001b[0;32mreturn\u001b[0m \u001b[0marray\u001b[0m\u001b[0;34m(\u001b[0m\u001b[0ma\u001b[0m\u001b[0;34m,\u001b[0m \u001b[0mdtype\u001b[0m\u001b[0;34m,\u001b[0m \u001b[0mcopy\u001b[0m\u001b[0;34m=\u001b[0m\u001b[0;32mFalse\u001b[0m\u001b[0;34m,\u001b[0m \u001b[0morder\u001b[0m\u001b[0;34m=\u001b[0m\u001b[0morder\u001b[0m\u001b[0;34m,\u001b[0m \u001b[0msubok\u001b[0m\u001b[0;34m=\u001b[0m\u001b[0;32mTrue\u001b[0m\u001b[0;34m)\u001b[0m\u001b[0;34m\u001b[0m\u001b[0;34m\u001b[0m\u001b[0m\n\u001b[0m\u001b[1;32m    139\u001b[0m \u001b[0;34m\u001b[0m\u001b[0m\n\u001b[1;32m    140\u001b[0m \u001b[0;34m\u001b[0m\u001b[0m\n",
      "\u001b[0;31mTypeError\u001b[0m: float() argument must be a string or a number, not 'dict'"
     ]
    },
    {
     "data": {
      "image/png": "[encoded data removed]",
      "text/plain": [
       "<Figure size 432x288 with 1 Axes>"
      ]
     },
     "metadata": {
      "needs_background": "light"
     },
     "output_type": "display_data"
    }
   ],
   "source": [
    "x_values = city_data_pd[\"lat\"]\n",
    "y_values = city_data_pd[\"Cloudiness\"]\n",
    "\n",
    "plt.scatter(x_values,y_values)\n",
    "\n",
    "plt.grid(True)\n",
    "\n",
    "plt.title(\"City Latitude vs Cloudiness (3/20/20)\")\n",
    "plt.xlabel(\"Latitude\")\n",
    "plt.ylabel(\"Cloudiness\")\n",
    "plt.savefig(\"../Images/LatCloudiness.png\")\n",
    "plt.show()"
   ]
  },
  {
   "cell_type": "markdown",
   "metadata": {},
   "source": [
    "#### Latitude vs. Wind Speed Plot"
   ]
  },
  {
   "cell_type": "code",
   "execution_count": 47,
   "metadata": {},
   "outputs": [
    {
     "data": {
      "image/png": "[encoded data removed]",
      "text/plain": [
       "<Figure size 432x288 with 1 Axes>"
      ]
     },
     "metadata": {
      "needs_background": "light"
     },
     "output_type": "display_data"
    }
   ],
   "source": [
    "x_values = city_data_pd[\"lat\"]\n",
    "y_values = city_data_pd[\"Wind Speed\"]\n",
    "\n",
    "plt.scatter(x_values,y_values)\n",
    "\n",
    "plt.grid(True)\n",
    "\n",
    "plt.title(\"City Latitude vs Wind Speed (3/20/20)\")\n",
    "plt.xlabel(\"Latitude\")\n",
    "plt.ylabel(\"Wind Speed\")\n",
    "plt.savefig(\"../Images/LatWindSpeed.png\")\n",
    "plt.show()"
   ]
  },
  {
   "cell_type": "markdown",
   "metadata": {},
   "source": [
    "## Linear Regression"
   ]
  },
  {
   "cell_type": "code",
   "execution_count": 53,
   "metadata": {},
   "outputs": [],
   "source": [
    "#  Create a function to create Linear Regression plots\n",
    "def plot_linear_regression(x_values, y_values, title, text_coordinates):\n",
    "    \n",
    "    # regresson - southern hemisphere\n",
    "    (slope, intercept, rvalue, pvalue, stderr) = linregress(x_values, y_values)\n",
    "    regress_values = x_values * slope + intercept\n",
    "    line_eq = \"y = \" + str(round(slope,2)) + \"x + \" + str(round(intercept,2))\n",
    "\n",
    "    \n",
    "    plt.scatter(x_values,y_values)\n",
    "    plt.plot(x_values,regress_values,\"r-\")\n",
    "    plt.annotate(line_eq,text_coordinates,fontsize=15,color=\"red\")\n",
    "    plt.xlabel('Latitude')\n",
    "    plt.ylabel(title)\n",
    "    print(f\"The r-squared is: {rvalue}\")\n",
    "    plt.show()"
   ]
  },
  {
   "cell_type": "code",
   "execution_count": 52,
   "metadata": {},
   "outputs": [],
   "source": [
    "# Create Northern and Southern Hemisphere DataFrames\n",
    "northern_hem_df = city_data_pd.loc[(city_data_pd[\"lat\"] >= 0)]\n",
    "southern_hem_df = city_data_pd.loc[(city_data_pd[\"lat\"] < 0)]"
   ]
  },
  {
   "cell_type": "markdown",
   "metadata": {},
   "source": [
    "####  Northern Hemisphere - Max Temp vs. Latitude Linear Regression"
   ]
  },
  {
   "cell_type": "code",
   "execution_count": 56,
   "metadata": {},
   "outputs": [
    {
     "name": "stdout",
     "output_type": "stream",
     "text": [
      "The r-squared is: -0.9107789546916858\n"
     ]
    },
    {
     "data": {
      "image/png": "[encoded data removed]",
      "text/plain": [
       "<Figure size 432x288 with 1 Axes>"
      ]
     },
     "metadata": {
      "needs_background": "light"
     },
     "output_type": "display_data"
    }
   ],
   "source": [
    "x_values = northern_hem_df[\"lat\"]\n",
    "y_values = northern_hem_df[\"Max Temp\"]\n",
    "plot_linear_regression(x_values, y_values, 'Max Temp',(6,30))"
   ]
  },
  {
   "cell_type": "markdown",
   "metadata": {},
   "source": [
    "####  Southern Hemisphere - Max Temp vs. Latitude Linear Regression"
   ]
  },
  {
   "cell_type": "code",
   "execution_count": 57,
   "metadata": {},
   "outputs": [
    {
     "name": "stdout",
     "output_type": "stream",
     "text": [
      "The r-squared is: 0.8533433709674927\n"
     ]
    },
    {
     "data": {
      "image/png": "[encoded data removed]",
      "text/plain": [
       "<Figure size 432x288 with 1 Axes>"
      ]
     },
     "metadata": {
      "needs_background": "light"
     },
     "output_type": "display_data"
    }
   ],
   "source": [
    "x_values = southern_hem_df[\"lat\"]\n",
    "y_values = southern_hem_df[\"Max Temp\"]\n",
    "plot_linear_regression(x_values, y_values, 'Max Temp', (-30,40))"
   ]
  },
  {
   "cell_type": "markdown",
   "metadata": {},
   "source": [
    "####  Northern Hemisphere - Humidity (%) vs. Latitude Linear Regression"
   ]
  },
  {
   "cell_type": "code",
   "execution_count": 55,
   "metadata": {},
   "outputs": [
    {
     "name": "stdout",
     "output_type": "stream",
     "text": [
      "The r-squared is: 0.24266444002210952\n"
     ]
    },
    {
     "data": {
      "image/png": "[encoded data removed]",
      "text/plain": [
       "<Figure size 432x288 with 1 Axes>"
      ]
     },
     "metadata": {
      "needs_background": "light"
     },
     "output_type": "display_data"
    }
   ],
   "source": [
    "x_values = northern_hem_df[\"lat\"]\n",
    "y_values = northern_hem_df[\"Humidity\"]\n",
    "plot_linear_regression(x_values, y_values, 'Humidity',(40,10))"
   ]
  },
  {
   "cell_type": "markdown",
   "metadata": {},
   "source": [
    "####  Southern Hemisphere - Humidity (%) vs. Latitude Linear Regression"
   ]
  },
  {
   "cell_type": "code",
   "execution_count": 59,
   "metadata": {},
   "outputs": [
    {
     "name": "stdout",
     "output_type": "stream",
     "text": [
      "The r-squared is: 0.3355490640287104\n"
     ]
    },
    {
     "data": {
      "image/png": "[encoded data removed]",
      "text/plain": [
       "<Figure size 432x288 with 1 Axes>"
      ]
     },
     "metadata": {
      "needs_background": "light"
     },
     "output_type": "display_data"
    }
   ],
   "source": [
    "x_values = southern_hem_df[\"lat\"]\n",
    "y_values = southern_hem_df[\"Humidity\"]\n",
    "plot_linear_regression(x_values, y_values, 'Humidity', (-30,150))"
   ]
  },
  {
   "cell_type": "markdown",
   "metadata": {},
   "source": [
    "####  Northern Hemisphere - Cloudiness (%) vs. Latitude Linear Regression"
   ]
  },
  {
   "cell_type": "code",
   "execution_count": null,
   "metadata": {},
   "outputs": [],
   "source": []
  },
  {
   "cell_type": "markdown",
   "metadata": {},
   "source": [
    "####  Southern Hemisphere - Cloudiness (%) vs. Latitude Linear Regression"
   ]
  },
  {
   "cell_type": "code",
   "execution_count": null,
   "metadata": {},
   "outputs": [],
   "source": []
  },
  {
   "cell_type": "markdown",
   "metadata": {},
   "source": [
    "####  Northern Hemisphere - Wind Speed (mph) vs. Latitude Linear Regression"
   ]
  },
  {
   "cell_type": "code",
   "execution_count": 61,
   "metadata": {},
   "outputs": [
    {
     "name": "stdout",
     "output_type": "stream",
     "text": [
      "The r-squared is: 0.19221883760826425\n"
     ]
    },
    {
     "data": {
      "image/png": "[encoded data removed]",
      "text/plain": [
       "<Figure size 432x288 with 1 Axes>"
      ]
     },
     "metadata": {
      "needs_background": "light"
     },
     "output_type": "display_data"
    }
   ],
   "source": [
    "x_values = northern_hem_df[\"lat\"]\n",
    "y_values = northern_hem_df[\"Wind Speed\"]\n",
    "plot_linear_regression(x_values, y_values, 'Wind Speed', (40,25))"
   ]
  },
  {
   "cell_type": "markdown",
   "metadata": {},
   "source": [
    "####  Southern Hemisphere - Wind Speed (mph) vs. Latitude Linear Regression"
   ]
  },
  {
   "cell_type": "code",
   "execution_count": 60,
   "metadata": {},
   "outputs": [
    {
     "name": "stdout",
     "output_type": "stream",
     "text": [
      "The r-squared is: -0.4268646884346743\n"
     ]
    },
    {
     "data": {
      "image/png": "[encoded data removed]",
      "text/plain": [
       "<Figure size 432x288 with 1 Axes>"
      ]
     },
     "metadata": {
      "needs_background": "light"
     },
     "output_type": "display_data"
    }
   ],
   "source": [
    "x_values = southern_hem_df[\"lat\"]\n",
    "y_values = southern_hem_df[\"Wind Speed\"]\n",
    "plot_linear_regression(x_values, y_values, 'Wind Speed', (-30,30))"
   ]
  }
 ],
 "metadata": {
  "anaconda-cloud": {},
  "kernel_info": {
   "name": "python3"
  },
  "kernelspec": {
   "display_name": "Python 3",
   "language": "python",
   "name": "python3"
  },
  "language_info": {
   "codemirror_mode": {
    "name": "ipython",
    "version": 3
   },
   "file_extension": ".py",
   "mimetype": "text/x-python",
   "name": "python",
   "nbconvert_exporter": "python",
   "pygments_lexer": "ipython3",
   "version": "3.7.4"
  },
  "latex_envs": {
   "LaTeX_envs_menu_present": true,
   "autoclose": false,
   "autocomplete": true,
   "bibliofile": "biblio.bib",
   "cite_by": "apalike",
   "current_citInitial": 1,
   "eqLabelWithNumbers": true,
   "eqNumInitial": 1,
   "hotkeys": {
    "equation": "Ctrl-E",
    "itemize": "Ctrl-I"
   },
   "labels_anchors": false,
   "latex_user_defs": false,
   "report_style_numbering": false,
   "user_envs_cfg": false
  },
  "nteract": {
   "version": "0.12.3"
  }
 },
 "nbformat": 4,
 "nbformat_minor": 2
}
